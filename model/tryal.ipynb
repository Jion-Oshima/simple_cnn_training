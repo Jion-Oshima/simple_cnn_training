{
 "cells": [
  {
   "cell_type": "code",
   "execution_count": 1,
   "metadata": {},
   "outputs": [],
   "source": [
    "import os\n",
    "from dataclasses import dataclass\n",
    "\n",
    "import torch\n",
    "from torch import nn\n",
    "from torchvision.models import (\n",
    "    resnet50,\n",
    "    ResNet50_Weights,\n",
    "    resnet18,\n",
    "    ResNet18_Weights,\n",
    ")"
   ]
  },
  {
   "cell_type": "code",
   "execution_count": 9,
   "metadata": {},
   "outputs": [],
   "source": [
    "class ModelFactory():\n",
    "\n",
    "    @staticmethod\n",
    "    def create(model_name: str, n_classes: int):\n",
    "        for subclass in ModelFactory.__subclasses__():\n",
    "            if subclass.__name__ == model_name:\n",
    "                return subclass(model_name, n_classes)\n",
    "\n",
    "        return False\n",
    "\n",
    "    def __init__(self, model_name: str, n_classes: int):\n",
    "        self.model_name = model_name\n",
    "        self.n_classes = n_classes\n",
    "        self.model = nn.Module()  # dummy?\n",
    "\n",
    "    def train(self):\n",
    "        self.model.train()\n",
    "\n",
    "    def eval(self):\n",
    "        self.model.eval()\n",
    "\n",
    "    def __call__(self, *args, **kwargs):\n",
    "        return self.model(*args, **kwargs)\n",
    "\n",
    "    def get_model(self):\n",
    "        return self.model"
   ]
  },
  {
   "cell_type": "code",
   "execution_count": 10,
   "metadata": {},
   "outputs": [],
   "source": [
    "class ResNet18(ModelFactory):\n",
    "\n",
    "    def __init__(self, model_name: str, n_classes: int):\n",
    "        super().__init__(model_name, n_classes)\n",
    "        weights = ResNet18_Weights.IMAGENET1K_V1\n",
    "        self.model = resnet18(weights=weights)\n",
    "        self.model.fc = nn.Linear(\n",
    "            self.model.fc.in_features,\n",
    "            self.n_classes\n",
    "        )"
   ]
  },
  {
   "cell_type": "code",
   "execution_count": 11,
   "metadata": {},
   "outputs": [],
   "source": [
    "model = ModelFactory.create(\"ResNet18\", 778)"
   ]
  },
  {
   "cell_type": "code",
   "execution_count": 12,
   "metadata": {},
   "outputs": [],
   "source": [
    "input = torch.rand(16, 3, 224, 224)"
   ]
  },
  {
   "cell_type": "code",
   "execution_count": 13,
   "metadata": {},
   "outputs": [],
   "source": [
    "# print(model.model)"
   ]
  },
  {
   "cell_type": "code",
   "execution_count": 14,
   "metadata": {},
   "outputs": [
    {
     "data": {
      "text/plain": [
       "tensor([[ 1.5250, -0.5373,  0.7756,  ...,  0.2224,  0.1816,  1.6705],\n",
       "        [ 1.2608, -0.6349,  0.9953,  ...,  0.0521, -0.4448,  1.2121],\n",
       "        [ 1.1375, -0.1234,  0.8351,  ...,  0.2446,  0.1314,  0.4164],\n",
       "        ...,\n",
       "        [ 1.1033, -0.5420,  0.1594,  ...,  0.4961,  0.1726,  0.7346],\n",
       "        [ 1.2857, -0.5147,  0.3937,  ...,  0.3329,  0.0552,  1.0015],\n",
       "        [ 0.9839, -0.2012,  0.6409,  ...,  0.6985, -0.3498,  1.0434]],\n",
       "       grad_fn=<AddmmBackward0>)"
      ]
     },
     "execution_count": 14,
     "metadata": {},
     "output_type": "execute_result"
    }
   ],
   "source": [
    "model(input)"
   ]
  },
  {
   "cell_type": "code",
   "execution_count": null,
   "metadata": {},
   "outputs": [],
   "source": []
  }
 ],
 "metadata": {
  "kernelspec": {
   "display_name": "Python 3",
   "language": "python",
   "name": "python3"
  },
  "language_info": {
   "codemirror_mode": {
    "name": "ipython",
    "version": 3
   },
   "file_extension": ".py",
   "mimetype": "text/x-python",
   "name": "python",
   "nbconvert_exporter": "python",
   "pygments_lexer": "ipython3",
   "version": "3.10.12"
  }
 },
 "nbformat": 4,
 "nbformat_minor": 2
}
